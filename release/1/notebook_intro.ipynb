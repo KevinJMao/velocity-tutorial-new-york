{
 "cells": [
  {
   "cell_type": "markdown",
   "metadata": {},
   "source": [
    "# Jupyter Notebook and NumPy introduction\n",
    "\n",
    "Jupyter notebook is often used by data scientists who work in Python. It is loosely based on Mathematica and combines code, text and visual output in one page.\n",
    "\n",
    "## Basic Jupyter Notebook commands\n",
    "\n",
    "Some relevant short cuts:\n",
    "* ```SHIFT + ENTER``` executes 1 block of code called a cell\n",
    "* Tab-completion is omnipresent after the import of a package has been executed\n",
    "* ```SHIFT + TAB``` gives you extra information on what parameters a function takes\n",
    "* Repeating ```SHIFT + TAB``` multiple times gives you even more information\n",
    "\n",
    "To get used to these short cuts try them out on the cell below."
   ]
  },
  {
   "cell_type": "code",
   "execution_count": null,
   "metadata": {},
   "outputs": [],
   "source": [
    "print('Hello world!')\n",
    "print(range(5))"
   ]
  },
  {
   "cell_type": "markdown",
   "metadata": {},
   "source": [
    "## Imports\n",
    "\n",
    "In Python you need to import tools to be able to use them. In this workshop we will mainly use the numpy toolbox and you can import it like this:"
   ]
  },
  {
   "cell_type": "code",
   "execution_count": null,
   "metadata": {},
   "outputs": [],
   "source": [
    "import numpy as np"
   ]
  },
  {
   "cell_type": "markdown",
   "metadata": {},
   "source": [
    "Because we are running Python 2 an we would like our code to be compatible with Python 3 we import the following. This doesn't guarantee compatibility, but significantly improves it."
   ]
  },
  {
   "cell_type": "code",
   "execution_count": null,
   "metadata": {},
   "outputs": [],
   "source": [
    "# to make the code is compatible with python 3\n",
    "from __future__ import print_function   # turns print into a function\n",
    "from __future__ import division         # makes sure 3/2 = 1.5 and not 1 (use 3//2 = 1 instead)"
   ]
  },
  {
   "cell_type": "markdown",
   "metadata": {},
   "source": [
    "## Parts to be implemented\n",
    "\n",
    "In cells like the following example you are expected to implement some code. The remainder of the tutorial won't work if you skip these.\n",
    "\n",
    "Sometimes assertions are added as a check."
   ]
  },
  {
   "cell_type": "code",
   "execution_count": null,
   "metadata": {
    "deletable": false,
    "nbgrader": {
     "checksum": "48c589851e38dc1c67e45d788269853f",
     "grade": false,
     "grade_id": "example_impl",
     "locked": false,
     "schema_version": 1,
     "solution": true
    }
   },
   "outputs": [],
   "source": [
    "# To proceed, implement the missing code, and remove the 'raise NotImplementedException()'\n",
    "\n",
    "##### Implement this part of the code #####\n",
    "raise NotImplementedError()\n",
    "# three = ?\n",
    "assert three == 3"
   ]
  },
  {
   "cell_type": "markdown",
   "metadata": {},
   "source": [
    "## Numpy arrays\n",
    "\n",
    "We'll be working often with numpy arrays so here's a short introduction. \n",
    "[`np.array()`](https://docs.scipy.org/doc/numpy-1.10.1/reference/generated/numpy.array.html) create a new array."
   ]
  },
  {
   "cell_type": "code",
   "execution_count": null,
   "metadata": {},
   "outputs": [],
   "source": [
    "import numpy as np\n",
    "\n",
    "# This is a two-dimensional numpy array:\n",
    "arr = np.array([[1,2,3,4],[5,6,7,8]])\n",
    "print(arr)\n",
    "\n",
    "# The shape is a tuple describing the size of each dimension\n",
    "print(\"shape=\" + str(arr.shape))\n",
    "\n",
    "# Elements are selected by specifying two indices, counting from 0\n",
    "print(\"arr[1,3] = %d\" % arr[1,3])\n",
    "\n",
    "print()\n",
    "# Also slices are supported:\n",
    "print(\"arr[:,2:4] =\")\n",
    "print(arr[:,2:4])\n",
    "\n",
    "print()\n",
    "# This is a three-dimensional numpy array\n",
    "arr3 = np.array([[[1, 2, 3, 4], [5, 6, 7, 8]], [[9, 10, 11, 12], [13, 14, 15, 16]]])\n",
    "print(arr3)\n",
    "\n",
    "print()\n",
    "print(\"shape=\" + str(arr3.shape))\n",
    "\n",
    "# Elements in a three dimensional array are selected by specifying three indices, counting from 0\n",
    "print(arr3[1][0][2])"
   ]
  },
  {
   "cell_type": "code",
   "execution_count": null,
   "metadata": {},
   "outputs": [],
   "source": [
    "# The numpy reshape method allows one to change the shape of an array, while keeping the underlying data.\n",
    "# One can leave one dimension unspecified by passing -1, it will be determined from the size of the data.\n",
    "\n",
    "print(\"Original array:\")\n",
    "print(arr)\n",
    "\n",
    "print()\n",
    "print(\"As 4x2 matrix\")\n",
    "print(np.reshape(arr, (4,2)))\n",
    "\n",
    "print()\n",
    "print(\"As 8x1 matrix\")\n",
    "print(np.reshape(arr, (-1,1)))\n",
    "\n",
    "print()\n",
    "print(\"As 2x2x2 array\")\n",
    "print(np.reshape(arr, (2,2,-1)))"
   ]
  },
  {
   "cell_type": "markdown",
   "metadata": {},
   "source": [
    "The operations in numpy are mostly functional, like reshape, in that they don't change the array provided as argument. A lot of operations can be specified both as a function ```np.op(A)``` and a method ```A.op()```."
   ]
  },
  {
   "cell_type": "code",
   "execution_count": null,
   "metadata": {},
   "outputs": [],
   "source": [
    "# the numpy sum, mean min and max can be used to calculate aggregates across any axis\n",
    "table = np.array([[10.9, 12.1, 15.2, 7.3], [3.9, 1.2, 34.6, 8.3], [1.9, 23.3, 1.2, 3.7]])\n",
    "print(table)\n",
    "\n",
    "# Calculating the maximum across the first axis (=0).\n",
    "max0 = np.max(table, axis=0)\n",
    "# Calculating the maximum across the second axis (=1).\n",
    "max1 = np.max(table, axis=1)\n",
    "# Calculating the overall maximum.\n",
    "max_overall = np.max(table)\n",
    "\n",
    "print(\"Maximum over the rows of the table = \" + str(max0))\n",
    "print(\"Maximum over the columns of the table = \" + str(max1))\n",
    "print(\"Overall maximum of the table = \" + str(max_overall))"
   ]
  },
  {
   "cell_type": "markdown",
   "metadata": {},
   "source": [
    "Basic arithmetical operations on arrays of the same shape are done elementwise: "
   ]
  },
  {
   "cell_type": "code",
   "execution_count": null,
   "metadata": {},
   "outputs": [],
   "source": [
    "x = np.array([1.,2.,3.])\n",
    "y = np.array([4.,5.,6.])\n",
    "\n",
    "print(x + y)\n",
    "print(x - y)\n",
    "print(x * y)\n",
    "print(x / y)"
   ]
  },
  {
   "cell_type": "markdown",
   "metadata": {},
   "source": [
    "Numpy will broadcast operations involving arrays of different shape:"
   ]
  },
  {
   "cell_type": "code",
   "execution_count": null,
   "metadata": {},
   "outputs": [],
   "source": [
    "A = np.array(range(8)).reshape((-1,2))\n",
    "print(\"A=\" + str(A))\n",
    "\n",
    "print()\n",
    "v = np.array([10,10])\n",
    "print(\"v=\" + str(v))\n",
    "\n",
    "print()\n",
    "print(\"A + v = \")\n",
    "print(A + v)\n"
   ]
  },
  {
   "cell_type": "markdown",
   "metadata": {},
   "source": [
    "A matrix (2-dimensionsal array) can be transposed using [np.transpose](https://docs.scipy.org/doc/numpy-1.12.0/reference/generated/numpy.transpose.html) or using A.T. "
   ]
  },
  {
   "cell_type": "code",
   "execution_count": null,
   "metadata": {},
   "outputs": [],
   "source": [
    "A = np.array(range(8)).reshape((-1,2))\n",
    "print(\"A=\")\n",
    "print(A)\n",
    "\n",
    "print(\"A.T=\")\n",
    "print(A.T)"
   ]
  },
  {
   "cell_type": "markdown",
   "metadata": {},
   "source": [
    "## Data plotting"
   ]
  },
  {
   "cell_type": "markdown",
   "metadata": {},
   "source": [
    "We use matplotlib.pyplot to make various types of plots"
   ]
  },
  {
   "cell_type": "code",
   "execution_count": null,
   "metadata": {},
   "outputs": [],
   "source": [
    "import matplotlib.pyplot as plt"
   ]
  },
  {
   "cell_type": "markdown",
   "metadata": {},
   "source": [
    "A basic plot a list of values:"
   ]
  },
  {
   "cell_type": "code",
   "execution_count": null,
   "metadata": {},
   "outputs": [],
   "source": [
    "plt.plot([7.3, 8.2, 1.2, 3.2, 9.1, 1.5])\n",
    "plt.show()"
   ]
  },
  {
   "cell_type": "markdown",
   "metadata": {},
   "source": [
    "Plotting a list of X and Y values:"
   ]
  },
  {
   "cell_type": "code",
   "execution_count": null,
   "metadata": {},
   "outputs": [],
   "source": [
    "plt.plot([100.0, 110.0, 120.0, 130.0, 140.0, 150.0],[2.3, 8.1, 9.3, 9.7, 9.8, 20.0])\n",
    "plt.show()"
   ]
  },
  {
   "cell_type": "markdown",
   "metadata": {},
   "source": [
    "Using mathematical functions and plotting more than one line on a graph"
   ]
  },
  {
   "cell_type": "code",
   "execution_count": null,
   "metadata": {},
   "outputs": [],
   "source": [
    "x = np.arange(0.0, 10.0, 0.1)\n",
    "\n",
    "# Most numpy function work on arrays as well by applying the function to each element in turn\n",
    "y_cos = np.cos(x)\n",
    "y_sin = np.sin(x)"
   ]
  },
  {
   "cell_type": "code",
   "execution_count": null,
   "metadata": {},
   "outputs": [],
   "source": [
    "plt.plot(x, y_cos)\n",
    "plt.plot(x, y_sin)\n",
    "plt.show()"
   ]
  },
  {
   "cell_type": "code",
   "execution_count": null,
   "metadata": {},
   "outputs": [],
   "source": []
  }
 ],
 "metadata": {
  "anaconda-cloud": {},
  "kernelspec": {
   "display_name": "Python 2",
   "language": "python",
   "name": "python2"
  },
  "language_info": {
   "codemirror_mode": {
    "name": "ipython",
    "version": 2
   },
   "file_extension": ".py",
   "mimetype": "text/x-python",
   "name": "python",
   "nbconvert_exporter": "python",
   "pygments_lexer": "ipython2",
   "version": "2.7.12"
  }
 },
 "nbformat": 4,
 "nbformat_minor": 1
}
