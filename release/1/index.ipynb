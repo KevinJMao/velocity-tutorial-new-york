{
 "cells": [
  {
   "cell_type": "markdown",
   "metadata": {},
   "source": [
    "# A hands-on data science crash course in Python\n",
    "\n",
    "by Bart De Vylder and Pieter Buteneers from CoScale\n",
    "\n",
    "\n",
    "## [Notebook and Numpy introduction](notebook_intro.ipynb)\n",
    "\n",
    "## [Anomaly Detection ](anomaly_detection.ipynb)\n",
    "\n",
    "## [Data modeling](modeling.ipynb)\n",
    "\n",
    "## [Machine learning](machine_learning.ipynb)\n",
    "\n",
    "## [Correlation and clustering](timeseries_clustering.ipynb)\n",
    "\n",
    "## [Forecasting](forecasting.ipynb)\n",
    "\n",
    "\n",
    "If you have any feedback regarding this tutorial, feel free to share it with us. You can mail to <a href=\"mailto:bartdevylder@gmail.com\">bartdevylder@gmail.com</a>."
   ]
  },
  {
   "cell_type": "code",
   "execution_count": null,
   "metadata": {},
   "outputs": [],
   "source": []
  }
 ],
 "metadata": {
  "anaconda-cloud": {},
  "kernelspec": {
   "display_name": "Python 2",
   "language": "python",
   "name": "python2"
  },
  "language_info": {
   "codemirror_mode": {
    "name": "ipython",
    "version": 2
   },
   "file_extension": ".py",
   "mimetype": "text/x-python",
   "name": "python",
   "nbconvert_exporter": "python",
   "pygments_lexer": "ipython2",
   "version": "2.7.12"
  }
 },
 "nbformat": 4,
 "nbformat_minor": 1
}
